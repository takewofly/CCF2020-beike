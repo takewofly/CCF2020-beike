{
 "cells": [
  {
   "cell_type": "code",
   "execution_count": 2,
   "metadata": {},
   "outputs": [
    {
     "data": {
      "text/plain": [
       "['test.reply.tsv', 'test.query.tsv']"
      ]
     },
     "execution_count": 2,
     "metadata": {},
     "output_type": "execute_result"
    }
   ],
   "source": [
    "import pandas as pd\n",
    "import os\n",
    "path=\"./data/\"\n",
    "os.listdir(path+\"test/\")"
   ]
  },
  {
   "cell_type": "code",
   "execution_count": 3,
   "metadata": {},
   "outputs": [],
   "source": [
    "\n",
    "train_query = pd.read_table(path+\"train/train.query.tsv\",names=['qid','query'])\n",
    "train_reply = pd.read_table(path+\"train/train.reply.tsv\",names=[\"qid\",'rid','reply','label'])\n",
    "\n",
    "test_query = pd.read_table(path+\"test/test.query.tsv\",names=['qid','query'],encoding=\"gbk\")\n",
    "test_reply = pd.read_table(path+\"test/test.reply.tsv\",names=[\"qid\",'rid','reply'],encoding=\"gbk\")"
   ]
  },
  {
   "cell_type": "code",
   "execution_count": 4,
   "metadata": {},
   "outputs": [],
   "source": [
    "train=pd.merge(train_query,train_reply,on=\"qid\",how=\"left\")\n",
    "test=pd.merge(test_query,test_reply,on=\"qid\",how=\"left\")"
   ]
  },
  {
   "cell_type": "code",
   "execution_count": 6,
   "metadata": {},
   "outputs": [],
   "source": [
    "train=train[train['reply'].notnull()]\n",
    "data = pd.concat([train,test])\n",
    "data = data[['query',\"reply\"]]\n",
    "data['text'] = data['query']+\" \"+data['reply']"
   ]
  },
  {
   "cell_type": "code",
   "execution_count": 10,
   "metadata": {},
   "outputs": [],
   "source": [
    "data[['text']].to_csv(\"data.txt\",index=False,header=None)"
   ]
  },
  {
   "cell_type": "code",
   "execution_count": 11,
   "metadata": {},
   "outputs": [
    {
     "name": "stdout",
     "output_type": "stream",
     "text": [
      "采荷一小是分校吧 杭州市采荷第一小学钱江苑校区，杭州市钱江新城实验学校。\r\n",
      "采荷一小是分校吧 是的\r\n",
      "采荷一小是分校吧 这是5楼\r\n",
      "毛坯吗？ 因为公积金贷款贷的少\r\n",
      "毛坯吗？ 是呢\r\n",
      "毛坯吗？ 这套一楼带院的，您看看\r\n",
      "毛坯吗？ 房本都是五年外的\r\n",
      "毛坯吗？ 好的??，您先看下\r\n",
      "你们的佣金费大约是多少和契税是多少。 您是首套还是二套呢？\r\n",
      "你们的佣金费大约是多少和契税是多少。 所有费用下来654万\r\n"
     ]
    }
   ],
   "source": [
    "!head data.txt"
   ]
  },
  {
   "cell_type": "code",
   "execution_count": null,
   "metadata": {},
   "outputs": [],
   "source": []
  }
 ],
 "metadata": {
  "kernelspec": {
   "display_name": "Python 3",
   "language": "python",
   "name": "python3"
  },
  "language_info": {
   "codemirror_mode": {
    "name": "ipython",
    "version": 3
   },
   "file_extension": ".py",
   "mimetype": "text/x-python",
   "name": "python",
   "nbconvert_exporter": "python",
   "pygments_lexer": "ipython3",
   "version": "3.6.10"
  }
 },
 "nbformat": 4,
 "nbformat_minor": 4
}
